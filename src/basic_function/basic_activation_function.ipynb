{
 "cells": [
  {
   "cell_type": "code",
   "execution_count": 3,
   "id": "24a35a46-dba7-48c4-86cd-4f4a6186320f",
   "metadata": {},
   "outputs": [],
   "source": [
    ":dep burn = {version = \"0.12.1\", features = [\"ndarray\", \"wgpu\", \"candle\"]}"
   ]
  },
  {
   "cell_type": "code",
   "execution_count": 4,
   "id": "59390210-2757-47e9-b80b-519bc6a15cde",
   "metadata": {},
   "outputs": [
    {
     "data": {
      "text/plain": [
       "burn = {version = \"0.12.1\", features = [\"ndarray\", \"wgpu\", \"candle\"]}\n"
      ]
     },
     "execution_count": 4,
     "metadata": {},
     "output_type": "execute_result"
    }
   ],
   "source": [
    ":show_deps"
   ]
  },
  {
   "cell_type": "code",
   "execution_count": 57,
   "id": "a98d4833-207a-4e40-8f9c-504151c052c7",
   "metadata": {},
   "outputs": [],
   "source": [
    "use burn::backend::{NdArray};\n",
    "use burn::tensor::{Tensor};\n",
    "use burn::tensor::backend::Backend;"
   ]
  },
  {
   "attachments": {
    "c0c51789-53be-4be8-8676-cf4d7a48217e.png": {
     "image/png": "[encoded data removed]"
    },
    "d220484b-9d31-4c56-9c47-17699a9362f1.png": {
     "image/png": "[encoded data removed]"
    }
   },
   "cell_type": "markdown",
   "id": "ee4f2846-a635-44ca-ae9c-648b497a379b",
   "metadata": {},
   "source": [
    "## 1、实现sigmoid function\n",
    "![image.png](attachment:c0c51789-53be-4be8-8676-cf4d7a48217e.png)\n",
    "![image.png](attachment:d220484b-9d31-4c56-9c47-17699a9362f1.png)"
   ]
  },
  {
   "cell_type": "code",
   "execution_count": 58,
   "id": "b48b62b1-d3f8-44d1-ba94-0c64c41dd7be",
   "metadata": {},
   "outputs": [],
   "source": [
    "use burn::tensor::backend::Backend;\n",
    "\n",
    "fn basic_sigmoid<B: Backend, const D: usize>(x: Tensor<B, D>) -> Tensor<B, D> {\n",
    "    let ones = x.ones_like();\n",
    "    return ones.clone() / (ones.clone() + (-x).exp());\n",
    "}"
   ]
  },
  {
   "cell_type": "code",
   "execution_count": 59,
   "id": "81fab454-0d1d-4f27-81b6-be83b8d8e756",
   "metadata": {},
   "outputs": [
    {
     "name": "stdout",
     "output_type": "stream",
     "text": [
      "Tensor {\n",
      "  data:\n",
      "[0.0, 4.5397872e-5, 0.26894143, 0.5, 0.7310586, 0.9999546, 1.0],\n",
      "  shape:  [7],\n",
      "  device:  Cpu,\n",
      "  backend:  \"ndarray\",\n",
      "  kind:  \"Float\",\n",
      "  dtype:  \"f32\",\n",
      "}\n"
     ]
    }
   ],
   "source": [
    "let device = Default::default();\n",
    "let tensor_1 = Tensor::<NdArray, 1>::from_data([-100f32, -10f32, -1f32, 0f32, 1f32, 10f32, 100f32], &device);\n",
    "\n",
    "let result_tensor = basic_sigmoid::<NdArray, 1>(tensor_1.clone());\n",
    "println!(\"{}\", result_tensor);"
   ]
  },
  {
   "cell_type": "markdown",
   "id": "7836766d-3f27-4e2f-9ffe-137946278bc0",
   "metadata": {},
   "source": [
    "## 2、实现Sigmoid gradient（梯度）\n",
    "完成sigmoid的梯度函数，用它去计算sigmoid相对于其输入x的梯度\n",
    "$\\sigma'(x) =\\sigma(x)(1-\\sigma(x))$"
   ]
  },
  {
   "cell_type": "code",
   "execution_count": 60,
   "id": "fb9e850d-ccee-4050-ac6d-cf64b7f61f9d",
   "metadata": {},
   "outputs": [],
   "source": [
    "fn sigmoid_derivative<B: Backend, const D: usize>(x: Tensor<B, D>) -> Tensor<B, D> {\n",
    "    let ones = x.ones_like();\n",
    "    let sigmoid = basic_sigmoid(x);\n",
    "\n",
    "    return sigmoid.clone()*(ones.clone() - sigmoid.clone());\n",
    "}"
   ]
  },
  {
   "cell_type": "code",
   "execution_count": 61,
   "id": "1e29c005-a22f-466a-aa5c-993d1ae75714",
   "metadata": {},
   "outputs": [
    {
     "name": "stdout",
     "output_type": "stream",
     "text": [
      "Tensor {\n",
      "  data:\n",
      "[0.0, 4.539581e-5, 0.19661194, 0.25, 0.19661193, 4.5416677e-5, 0.0],\n",
      "  shape:  [7],\n",
      "  device:  Cpu,\n",
      "  backend:  \"ndarray\",\n",
      "  kind:  \"Float\",\n",
      "  dtype:  \"f32\",\n",
      "}\n"
     ]
    }
   ],
   "source": [
    "let ds: Tensor::<NdArray, 1> = sigmoid_derivative::<NdArray, 1>(tensor_1.clone());\n",
    "println!(\"{}\", ds);"
   ]
  },
  {
   "cell_type": "code",
   "execution_count": null,
   "id": "313fab58-edbd-4392-a400-90a569d8de4b",
   "metadata": {},
   "outputs": [],
   "source": []
  }
 ],
 "metadata": {
  "kernelspec": {
   "display_name": "Rust",
   "language": "rust",
   "name": "rust"
  },
  "language_info": {
   "codemirror_mode": "rust",
   "file_extension": ".rs",
   "mimetype": "text/rust",
   "name": "Rust",
   "pygment_lexer": "rust",
   "version": ""
  }
 },
 "nbformat": 4,
 "nbformat_minor": 5
}
