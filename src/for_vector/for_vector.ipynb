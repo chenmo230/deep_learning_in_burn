{
 "cells": [
  {
   "cell_type": "markdown",
   "id": "e3c0a04c-5d3f-40f1-b916-b052ecec6ebf",
   "metadata": {},
   "source": [
    "### 非向量化和向量化耗时比较"
   ]
  },
  {
   "cell_type": "code",
   "execution_count": 2,
   "id": "f6e981a0-8164-4b84-aa20-8ac83baa7e28",
   "metadata": {},
   "outputs": [],
   "source": [
    ":dep burn = {version = \"0.12.1\", features = [\"ndarray\", \"wgpu\", \"candle\"]}"
   ]
  },
  {
   "cell_type": "code",
   "execution_count": 3,
   "id": "567cfa19-607f-45e2-86f2-491a9e1769a3",
   "metadata": {},
   "outputs": [
    {
     "data": {
      "text/plain": [
       "burn = {version = \"0.12.1\", features = [\"ndarray\", \"wgpu\", \"candle\"]}\n"
      ]
     },
     "execution_count": 3,
     "metadata": {},
     "output_type": "execute_result"
    }
   ],
   "source": [
    ":show_deps"
   ]
  },
  {
   "cell_type": "code",
   "execution_count": 4,
   "id": "886418d4-e31d-4181-a073-c6a34eec6032",
   "metadata": {},
   "outputs": [],
   "source": [
    "use burn::backend::{NdArray, Wgpu, Candle};\n",
    "use burn::tensor::{Distribution, Tensor};\n",
    "use burn::backend::candle::CandleDevice;\n",
    "use std::time::{Duration, Instant};"
   ]
  },
  {
   "cell_type": "code",
   "execution_count": 19,
   "id": "1a612f2e-76e6-4968-99fc-64a721b217f9",
   "metadata": {},
   "outputs": [
    {
     "name": "stdout",
     "output_type": "stream",
     "text": [
      "a ======: Tensor {\n",
      "  data:\n",
      "[0.630997, 0.55161667, 0.70124835, ..., 0.77008104, 0.0076946616, 0.9957493],\n",
      "  shape:  [1000000],\n",
      "  device:  Cpu,\n",
      "  backend:  \"ndarray\",\n",
      "  kind:  \"Float\",\n",
      "  dtype:  \"f32\",\n",
      "}\n"
     ]
    }
   ],
   "source": [
    "type Backend = NdArray;\n",
    "// type Backend = Wgpu;\n",
    "\n",
    "let m:usize = 1_000_000;\n",
    "let device = Default::default();\n",
    "let a: Tensor<Backend, 1> = Tensor::random([m], Distribution::Default, &device);\n",
    "let b: Tensor<Backend, 1> = Tensor::random([m], Distribution::Default, &device);\n",
    "println!(\"a ======: {}\", a);"
   ]
  },
  {
   "cell_type": "code",
   "execution_count": 20,
   "id": "f412af63-f117-47ff-82e2-cc7823d48d2a",
   "metadata": {},
   "outputs": [
    {
     "name": "stdout",
     "output_type": "stream",
     "text": [
      "for所需时间为: 1.299016ms\n",
      "c: 250419.81\n"
     ]
    }
   ],
   "source": [
    "let mut c: f32 = 0.0;\n",
    "let a_vec:Vec<f32> = a.clone().into_data().value;\n",
    "let b_vec:Vec<f32> = b.clone().into_data().value;\n",
    "\n",
    "let start = Instant::now();\n",
    "for i in 0..m {\n",
    "    c += a_vec[i] * b_vec[i];\n",
    "}\n",
    "let duration = start.elapsed();\n",
    "println!(\"for所需时间为: {:?}\", duration);\n",
    "println!(\"c: {:?}\", c);"
   ]
  },
  {
   "cell_type": "code",
   "execution_count": 21,
   "id": "3cf68bef-034d-4066-a297-e8b3a6a95730",
   "metadata": {},
   "outputs": [
    {
     "name": "stdout",
     "output_type": "stream",
     "text": [
      "向量化运算所需时间为: 1.189895ms\n",
      "d: 250454.72\n"
     ]
    }
   ],
   "source": [
    "let a_clone:Tensor<Backend, 1> = a.clone();\n",
    "let b_clone:Tensor<Backend, 1> = b.clone();\n",
    "let start = Instant::now();\n",
    "let d = a_clone.mul(b_clone).sum().into_scalar();\n",
    "let duration = start.elapsed();\n",
    "println!(\"向量化运算所需时间为: {:?}\", duration);\n",
    "println!(\"d: {:?}\", d);"
   ]
  },
  {
   "cell_type": "markdown",
   "id": "f36f8b7d-10a6-45b5-88bf-884ad64cb0ba",
   "metadata": {},
   "source": [
    "### 存在几个疑问\n",
    "1. rust向量化和非向量化非常接近\n",
    "2. 数据量为100000时，rust的ndarray耗时152.317µs，numpy耗时0.43702125549316406ms,此时rust的ndarray有明显优势\n",
    "3. 数据量为1000000时，rust的ndarray耗时1.258799ms，numpy耗时1.2631416320800781ms，此时并无明显差距"
   ]
  },
  {
   "cell_type": "code",
   "execution_count": null,
   "id": "f8b6e13f-bc38-4dd4-9c44-652962fb4158",
   "metadata": {},
   "outputs": [],
   "source": []
  }
 ],
 "metadata": {
  "kernelspec": {
   "display_name": "Rust",
   "language": "rust",
   "name": "rust"
  },
  "language_info": {
   "codemirror_mode": "rust",
   "file_extension": ".rs",
   "mimetype": "text/rust",
   "name": "Rust",
   "pygment_lexer": "rust",
   "version": ""
  }
 },
 "nbformat": 4,
 "nbformat_minor": 5
}
