{
 "cells": [
  {
   "cell_type": "markdown",
   "id": "e3c0a04c-5d3f-40f1-b916-b052ecec6ebf",
   "metadata": {},
   "source": [
    "### 非向量化和向量化耗时比较"
   ]
  },
  {
   "cell_type": "code",
   "execution_count": 2,
   "id": "f6e981a0-8164-4b84-aa20-8ac83baa7e28",
   "metadata": {},
   "outputs": [],
   "source": [
    ":dep burn = {version = \"0.12.1\", features = [\"ndarray\", \"wgpu\", \"candle\"]}"
   ]
  },
  {
   "cell_type": "code",
   "execution_count": 3,
   "id": "567cfa19-607f-45e2-86f2-491a9e1769a3",
   "metadata": {},
   "outputs": [
    {
     "data": {
      "text/plain": [
       "burn = {version = \"0.12.1\", features = [\"ndarray\", \"wgpu\", \"candle\"]}\n"
      ]
     },
     "execution_count": 3,
     "metadata": {},
     "output_type": "execute_result"
    }
   ],
   "source": [
    ":show_deps"
   ]
  },
  {
   "cell_type": "code",
   "execution_count": 4,
   "id": "886418d4-e31d-4181-a073-c6a34eec6032",
   "metadata": {},
   "outputs": [],
   "source": [
    "use burn::backend::{NdArray, Wgpu, Candle};\n",
    "use burn::tensor::{Distribution, Tensor};\n",
    "use burn::backend::candle::CandleDevice;\n",
    "use std::time::{Duration, Instant};"
   ]
  },
  {
   "cell_type": "code",
   "execution_count": 5,
   "id": "1a612f2e-76e6-4968-99fc-64a721b217f9",
   "metadata": {},
   "outputs": [
    {
     "name": "stdout",
     "output_type": "stream",
     "text": [
      "a ======: Tensor {\n",
      "  data:\n",
      "[0.7392877, 0.475743, 0.41540414, ..., 0.4407016, 0.8546534, 0.05691147],\n"
     ]
    }
   ],
   "source": [
    "type Backend = NdArray;\n",
    "// type Backend = Wgpu;\n",
    "\n",
    "let m:usize = 1_000_000;\n",
    "let device = Default::default();\n",
    "let a: Tensor<Backend, 1> = Tensor::random([m], Distribution::Default, &device);\n",
    "let b: Tensor<Backend, 1> = Tensor::random([m], Distribution::Default, &device);\n",
    "println!(\"a ======: {}\", a);"
   ]
  },
  {
   "cell_type": "code",
   "execution_count": 6,
   "id": "f412af63-f117-47ff-82e2-cc7823d48d2a",
   "metadata": {},
   "outputs": [
    {
     "name": "stdout",
     "output_type": "stream",
     "text": [
      "  shape:  [1000000],\n",
      "  device:  Cpu,\n",
      "  backend:  \"ndarray\",\n",
      "  kind:  \"Float\",\n",
      "  dtype:  \"f32\",\n",
      "}\n",
      "for loop use time: 1.278037ms\n",
      "c: 249844.03\n"
     ]
    }
   ],
   "source": [
    "let mut c: f32 = 0.0;\n",
    "let a_vec:Vec<f32> = a.clone().into_data().value;\n",
    "let b_vec:Vec<f32> = b.clone().into_data().value;\n",
    "\n",
    "let start = Instant::now();\n",
    "for i in 0..m {\n",
    "    c += a_vec[i] * b_vec[i];\n",
    "}\n",
    "let duration = start.elapsed();\n",
    "println!(\"for loop use time: {:?}\", duration);\n",
    "println!(\"c: {:?}\", c);"
   ]
  },
  {
   "cell_type": "code",
   "execution_count": 7,
   "id": "3cf68bef-034d-4066-a297-e8b3a6a95730",
   "metadata": {},
   "outputs": [
    {
     "name": "stdout",
     "output_type": "stream",
     "text": [
      "vector use time: 1.441143ms\n",
      "d: 249875.56\n"
     ]
    }
   ],
   "source": [
    "let a_clone:Tensor<Backend, 1> = a.clone();\n",
    "let b_clone:Tensor<Backend, 1> = b.clone();\n",
    "let start = Instant::now();\n",
    "let d = a_clone.mul(b_clone).sum().into_scalar();\n",
    "let duration = start.elapsed();\n",
    "println!(\"vector use time: {:?}\", duration);\n",
    "println!(\"d: {:?}\", d);"
   ]
  },
  {
   "cell_type": "code",
   "execution_count": null,
   "id": "f8b6e13f-bc38-4dd4-9c44-652962fb4158",
   "metadata": {},
   "outputs": [],
   "source": []
  }
 ],
 "metadata": {
  "kernelspec": {
   "display_name": "Rust",
   "language": "rust",
   "name": "rust"
  },
  "language_info": {
   "codemirror_mode": "rust",
   "file_extension": ".rs",
   "mimetype": "text/rust",
   "name": "Rust",
   "pygment_lexer": "rust",
   "version": ""
  }
 },
 "nbformat": 4,
 "nbformat_minor": 5
}
